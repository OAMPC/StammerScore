{
 "cells": [
  {
   "cell_type": "code",
   "execution_count": 2,
   "metadata": {},
   "outputs": [],
   "source": [
    "import csv\n",
    "import re\n",
    "\n",
    "# Define your input and output file paths\n",
    "input_file_path = r\"C:\\Users\\ojmar\\Documents\\Uni\\StammerScore\\ml-stuttering-events-dataset\\stutteringiscool.csv\"\n",
    "output_file_path = r\"C:\\Users\\ojmar\\Documents\\Uni\\StammerScore\\ml-stuttering-events-dataset\\stutteringiscool_modified.csv\"\n",
    "\n",
    "# Function to convert URLs\n",
    "def convert_url(original_url):\n",
    "    episode_part = re.search(r'/([^/]+\\.mp3)$', original_url)\n",
    "    if episode_part:\n",
    "        new_url = f\"http://media.blubrry.com/stutteringiscool/stutteringiscool.com/sound/{episode_part.group(1)}\"\n",
    "        return new_url\n",
    "    return original_url\n",
    "\n",
    "# Read from the input file, modify the data, and write to the output file\n",
    "with open(input_file_path, mode='r', encoding='utf-8') as infile, open(output_file_path, mode='w', newline='', encoding='utf-8') as outfile:\n",
    "    csv_reader = csv.reader(infile)\n",
    "    csv_writer = csv.writer(outfile)\n",
    "\n",
    "    for row in csv_reader:\n",
    "        if row:  # Check if the row is not empty\n",
    "            original_url = row[2]  # Assuming URLs are in the third column\n",
    "            row[2] = convert_url(original_url)  # Convert and replace the URL\n",
    "            csv_writer.writerow(row)  # Write the modified row to the output file\n",
    "\n",
    "# The modified data is now saved to 'stutteringiscool_modified.csv'\n"
   ]
  },
  {
   "cell_type": "code",
   "execution_count": null,
   "metadata": {},
   "outputs": [],
   "source": []
  }
 ],
 "metadata": {
  "kernelspec": {
   "display_name": "venv",
   "language": "python",
   "name": "venv"
  },
  "language_info": {
   "codemirror_mode": {
    "name": "ipython",
    "version": 3
   },
   "file_extension": ".py",
   "mimetype": "text/x-python",
   "name": "python",
   "nbconvert_exporter": "python",
   "pygments_lexer": "ipython3",
   "version": "3.10.0"
  }
 },
 "nbformat": 4,
 "nbformat_minor": 2
}
