{
 "cells": [
  {
   "cell_type": "code",
   "execution_count": null,
   "metadata": {},
   "outputs": [],
   "source": [
    "import pandas as pd\n",
    "\n",
    "def convert_csv_format(input_csv_path, output_csv_path):\n",
    "    df = pd.read_csv(input_csv_path)\n",
    "    \n",
    "    total_duration = float(df['Timestamp'].iloc[0].split('/')[1])\n",
    "    \n",
    "    # Subtract 0.4 from dysfluency time to account for reaction time\n",
    "    df['Timestamp'] = df['Timestamp'].apply(lambda x: f\"{float(x.split('/')[0]) - 0.4}/{x.split('/')[1]}\")\n",
    "    \n",
    "    num_chunks = int(total_duration // 3) + (1 if total_duration % 3 > 0 else 0)\n",
    "    \n",
    "    predictions = {f\"chunk_{i}.wav\": 1 for i in range(num_chunks)}\n",
    "    \n",
    "    for index, row in df.iterrows():\n",
    "        dysfluent_time = float(row['Timestamp'].split('/')[0])\n",
    "        chunk_index = int(dysfluent_time // 3)\n",
    "        predictions[f\"chunk_{chunk_index}.wav\"] = 0\n",
    "    \n",
    "    predictions_df = pd.DataFrame(list(predictions.items()), columns=['ChunkName', 'Prediction'])\n",
    "    \n",
    "    predictions_df.to_csv(output_csv_path, index=False)\n",
    "\n",
    "filename = 'MSLP - Andrea.csv'\n",
    "convert_csv_format(f'Marks\\Raw\\{filename}', f'Marks\\Processed+ReactionTime\\{filename}')\n"
   ]
  },
  {
   "cell_type": "code",
   "execution_count": null,
   "metadata": {},
   "outputs": [],
   "source": [
    "import os\n",
    "import pandas as pd\n",
    "\n",
    "def merge_csv_files(directory):\n",
    "    csv_files = [file for file in os.listdir(directory) if file.endswith('.csv')]\n",
    "    predictions_dict = {}\n",
    "\n",
    "    for file in csv_files:\n",
    "        file_path = os.path.join(directory, file)\n",
    "        df = pd.read_csv(file_path)\n",
    "        \n",
    "        df.set_index('ChunkName', inplace=True)\n",
    "        \n",
    "        predictions_dict[file] = df['Prediction']\n",
    "    \n",
    "    merged_df = pd.DataFrame(predictions_dict)\n",
    "    merged_df.reset_index(inplace=True)\n",
    "    merged_df.rename(columns={'index': 'ChunkName'}, inplace=True)\n",
    "    \n",
    "    merged_csv_path = os.path.join(directory, 'merged_predictions.csv')\n",
    "    merged_df.to_csv(merged_csv_path, index=False)\n",
    "    \n",
    "    print(f\"Merged predictions saved to: {merged_csv_path}\")\n",
    "\n",
    "merge_csv_files('Marks\\Processed+ReactionTime')"
   ]
  },
  {
   "cell_type": "code",
   "execution_count": 5,
   "metadata": {},
   "outputs": [
    {
     "name": "stdout",
     "output_type": "stream",
     "text": [
      "New CSV file with average column saved to: Marks\\Processed+ReactionTime\\merged_predictions_with_average.csv\n"
     ]
    }
   ],
   "source": [
    "import pandas as pd\n",
    "csv_file_path = 'Marks\\Processed+ReactionTime\\merged_predictions.csv'\n",
    "df = pd.read_csv(csv_file_path)\n",
    "\n",
    "prediction_cols = df.columns[1:]\n",
    "\n",
    "df['Average'] = df[prediction_cols].mean(axis=1).round().astype(int)\n",
    "\n",
    "output_csv_path = csv_file_path.replace('.csv', '_with_average.csv')\n",
    "df.to_csv(output_csv_path, index=False)\n",
    "\n",
    "print(f\"New CSV file with average column saved to: {output_csv_path}\")"
   ]
  },
  {
   "cell_type": "code",
   "execution_count": 9,
   "metadata": {},
   "outputs": [
    {
     "name": "stdout",
     "output_type": "stream",
     "text": [
      "Merged predictions saved to: Marks\\Processed+ReactionTime\\merged_predictions_with_average_merged.csv\n"
     ]
    }
   ],
   "source": [
    "import pandas as pd\n",
    "\n",
    "def merge_csv_files(merged_csv_path, new_csv_path):\n",
    "    merged_df = pd.read_csv(merged_csv_path)\n",
    "    \n",
    "    new_df = pd.read_csv(new_csv_path)    \n",
    "    merged_df.set_index('ChunkName', inplace=True)\n",
    "    new_df.set_index('ChunkName', inplace=True)\n",
    "    \n",
    "    merged_df = merged_df.join(new_df, how='outer', lsuffix='_merged', rsuffix='_new')    \n",
    "    merged_df = merged_df.loc[:,~merged_df.columns.duplicated()]\n",
    "    merged_df.reset_index(inplace=True)\n",
    "    \n",
    "    output_csv_path = merged_csv_path.replace('.csv', '_merged.csv')\n",
    "    merged_df.to_csv(output_csv_path, index=False)\n",
    "    \n",
    "    print(f\"Merged predictions saved to: {output_csv_path}\")\n",
    "\n",
    "merge_csv_files(r'Marks\\Processed+ReactionTime\\merged_predictions_with_average.csv', r'C:\\Users\\ojmar\\Documents\\Uni\\Synoptic Project\\StammerScore\\ML Models\\combined-and-filtered-strict-Binary-RandF-gpu-optimised\\My Stuttering Life Podcast Presents - My Journey From PWS To PWSS\\chunk_predictions.csv')\n"
   ]
  }
 ],
 "metadata": {
  "kernelspec": {
   "display_name": "Python 3",
   "language": "python",
   "name": "python3"
  },
  "language_info": {
   "codemirror_mode": {
    "name": "ipython",
    "version": 3
   },
   "file_extension": ".py",
   "mimetype": "text/x-python",
   "name": "python",
   "nbconvert_exporter": "python",
   "pygments_lexer": "ipython3",
   "version": "3.10.0"
  }
 },
 "nbformat": 4,
 "nbformat_minor": 2
}
