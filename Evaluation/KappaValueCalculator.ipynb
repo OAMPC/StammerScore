{
 "cells": [
  {
   "cell_type": "code",
   "execution_count": 11,
   "metadata": {},
   "outputs": [
    {
     "name": "stdout",
     "output_type": "stream",
     "text": [
      "          Human 1   Human 2   Human 3   Human 4   Human 5     Model\n",
      "Human 1  1.000000  0.310010  0.391304  0.711443  0.461078 -0.097436\n",
      "Human 2  0.310010  1.000000  0.599332  0.391172  0.406558  0.067599\n",
      "Human 3  0.391304  0.599332  1.000000  0.450382  0.345418 -0.011494\n",
      "Human 4  0.711443  0.391172  0.450382  1.000000  0.669670  0.032099\n",
      "Human 5  0.461078  0.406558  0.345418  0.669670  1.000000 -0.004975\n",
      "Model   -0.097436  0.067599 -0.011494  0.032099 -0.004975  1.000000\n"
     ]
    }
   ],
   "source": [
    "import pandas as pd\n",
    "import numpy as np\n",
    "from sklearn.metrics import cohen_kappa_score\n",
    "\n",
    "def calculate_cohens_kappa(csv_path):\n",
    "    data = pd.read_csv(csv_path)\n",
    "\n",
    "    # skip the 'ChunkName' column\n",
    "    columns = data.columns[1:]\n",
    "\n",
    "    kappa_matrix = pd.DataFrame(index=columns, columns=columns, dtype=float)\n",
    "\n",
    "    # Calculate Cohen's kappa for each pair of columns\n",
    "    for i in range(len(columns)):\n",
    "        for j in range(i+1, len(columns)):\n",
    "            kappa_score = cohen_kappa_score(data[columns[i]], data[columns[j]])\n",
    "            kappa_matrix.at[columns[i], columns[j]] = kappa_score\n",
    "            kappa_matrix.at[columns[j], columns[i]] = kappa_score\n",
    "\n",
    "    # Fill diagonal with 1, as kappa of a rater with themselves is perfect agreement\n",
    "    np.fill_diagonal(kappa_matrix.values, 1)\n",
    "    \n",
    "    return kappa_matrix\n",
    "\n",
    "csv_path = 'Marks\\Processed\\TSI Merged.csv'\n",
    "kappa_matrix = calculate_cohens_kappa(csv_path)\n",
    "print(kappa_matrix)\n"
   ]
  },
  {
   "cell_type": "code",
   "execution_count": 3,
   "metadata": {},
   "outputs": [
    {
     "name": "stdout",
     "output_type": "stream",
     "text": [
      "Fleiss' Kappa:  0.15504255982887338\n"
     ]
    },
    {
     "name": "stderr",
     "output_type": "stream",
     "text": [
      "C:\\Users\\ojmar\\AppData\\Local\\Temp\\ipykernel_12372\\1664096214.py:14: FutureWarning: pandas.value_counts is deprecated and will be removed in a future version. Use pd.Series(obj).value_counts() instead.\n",
      "  formatted_data = data[columns].apply(pd.value_counts, axis=1).fillna(0)\n"
     ]
    }
   ],
   "source": [
    "import pandas as pd\n",
    "from statsmodels.stats.inter_rater import fleiss_kappa\n",
    "\n",
    "def calculate_fleiss_kappa_for_humans(csv_path):\n",
    "    data = pd.read_csv(csv_path)\n",
    "\n",
    "    # Extract only human rater columns\n",
    "    columns = data.columns[1:6]\n",
    "\n",
    "    # Convert data to a format suitable for Fleiss' kappa: a matrix with shape (subjects, categories)\n",
    "    formatted_data = data[columns].apply(pd.value_counts, axis=1).fillna(0)\n",
    "    kappa_value = fleiss_kappa(formatted_data, method='fleiss')\n",
    "\n",
    "    return kappa_value\n",
    "\n",
    "csv_path = 'Marks\\\\Processed+ReactionTime\\\\Huberman Humans and model no average.csv'\n",
    "kappa_value_humans = calculate_fleiss_kappa_for_humans(csv_path)\n",
    "print(\"Fleiss' Kappa for Humans: \", kappa_value_humans)"
   ]
  },
  {
   "cell_type": "code",
   "execution_count": 4,
   "metadata": {},
   "outputs": [
    {
     "name": "stdout",
     "output_type": "stream",
     "text": [
      "Fleiss' Kappa for Average Human vs Model:  -0.015228426395941184\n"
     ]
    },
    {
     "name": "stderr",
     "output_type": "stream",
     "text": [
      "C:\\Users\\ojmar\\AppData\\Local\\Temp\\ipykernel_12372\\2206804657.py:16: FutureWarning: pandas.value_counts is deprecated and will be removed in a future version. Use pd.Series(obj).value_counts() instead.\n",
      "  formatted_data = data[columns].apply(pd.value_counts, axis=1).fillna(0)\n"
     ]
    }
   ],
   "source": [
    "import pandas as pd\n",
    "from statsmodels.stats.inter_rater import fleiss_kappa\n",
    "\n",
    "def calculate_fleiss_kappa_human_vs_model(csv_path):\n",
    "    data = pd.read_csv(csv_path)\n",
    "\n",
    "    # Calculate the average human score\n",
    "    human_columns = data.columns[1:6]\n",
    "    data['Average Human'] = data[human_columns].mean(axis=1).round().astype(int)\n",
    "\n",
    "    columns = ['Average Human', 'Model']\n",
    "\n",
    "    # Convert data to a format suitable for Fleiss' kappa: a matrix with shape (subjects, categories)\n",
    "    formatted_data = data[columns].apply(pd.value_counts, axis=1).fillna(0)\n",
    "    kappa_value = fleiss_kappa(formatted_data, method='fleiss')\n",
    "\n",
    "    return kappa_value\n",
    "\n",
    "csv_path = 'Marks\\\\Processed+ReactionTime\\\\Huberman Humans and model no average.csv'\n",
    "kappa_value_avg_human_vs_model = calculate_fleiss_kappa_human_vs_model(csv_path)\n",
    "print(\"Fleiss' Kappa for Average Human vs Model: \", kappa_value_avg_human_vs_model)\n"
   ]
  },
  {
   "cell_type": "code",
   "execution_count": 4,
   "metadata": {},
   "outputs": [
    {
     "name": "stdout",
     "output_type": "stream",
     "text": [
      "              Prediction 1  Prediction 2  Prediction 3  Prediction 4  \\\n",
      "Prediction 1         100.0          67.5          78.0          80.5   \n",
      "Prediction 2          67.5         100.0          75.5          76.0   \n",
      "Prediction 3          78.0          75.5         100.0          81.5   \n",
      "Prediction 4          80.5          76.0          81.5         100.0   \n",
      "Prediction 5          70.0          70.5          68.0          72.5   \n",
      "\n",
      "              Prediction 5  \n",
      "Prediction 1          70.0  \n",
      "Prediction 2          70.5  \n",
      "Prediction 3          68.0  \n",
      "Prediction 4          72.5  \n",
      "Prediction 5         100.0  \n"
     ]
    }
   ],
   "source": [
    "import pandas as pd\n",
    "import numpy as np\n",
    "\n",
    "def calculate_percent_agreement(csv_path):\n",
    "    data = pd.read_csv(csv_path)\n",
    "\n",
    "    # skip the 'ChunkName' column\n",
    "    columns = data.columns[1:]\n",
    "\n",
    "    agreement_matrix = pd.DataFrame(index=columns, columns=columns, dtype=float)\n",
    "\n",
    "    # Calculate Percent Agreement for each pair of columns\n",
    "    for i in range(len(columns)):\n",
    "        for j in range(i+1, len(columns)):\n",
    "            agreement = np.mean(data[columns[i]] == data[columns[j]]) * 100\n",
    "            agreement_matrix.at[columns[i], columns[j]] = agreement\n",
    "            agreement_matrix.at[columns[j], columns[i]] = agreement\n",
    "\n",
    "    # Fill diagonal with 100, as agreement of a rater with themselves is perfect\n",
    "    np.fill_diagonal(agreement_matrix.values, 100)\n",
    "    \n",
    "    return agreement_matrix\n",
    "\n",
    "csv_path = 'Marks\\Processed\\Multi Single Human Run.csv'\n",
    "agreement_matrix = calculate_percent_agreement(csv_path)\n",
    "print(agreement_matrix)\n"
   ]
  },
  {
   "cell_type": "code",
   "execution_count": 3,
   "metadata": {},
   "outputs": [
    {
     "name": "stdout",
     "output_type": "stream",
     "text": [
      "              Prediction 1  Prediction 2  Prediction 3  Prediction 4  \\\n",
      "Prediction 1      1.000000      0.371495      0.559604      0.614167   \n",
      "Prediction 2      0.371495      1.000000      0.511855      0.497066   \n",
      "Prediction 3      0.559604      0.511855      1.000000      0.630443   \n",
      "Prediction 4      0.614167      0.497066      0.630443      1.000000   \n",
      "Prediction 5      0.416286      0.331217      0.361978      0.428749   \n",
      "\n",
      "              Prediction 5  \n",
      "Prediction 1      0.416286  \n",
      "Prediction 2      0.331217  \n",
      "Prediction 3      0.361978  \n",
      "Prediction 4      0.428749  \n",
      "Prediction 5      1.000000  \n"
     ]
    },
    {
     "data": {
      "image/png": "[encoded data removed]",
      "text/plain": [
       "<Figure size 1000x800 with 2 Axes>"
      ]
     },
     "metadata": {},
     "output_type": "display_data"
    }
   ],
   "source": [
    "import pandas as pd\n",
    "import numpy as np\n",
    "from sklearn.metrics import cohen_kappa_score\n",
    "import seaborn as sns\n",
    "import matplotlib.pyplot as plt\n",
    "\n",
    "def calculate_cohens_kappa(csv_path):\n",
    "    data = pd.read_csv(csv_path)\n",
    "\n",
    "    # skip the 'ChunkName' column\n",
    "    columns = data.columns[1:]\n",
    "\n",
    "    kappa_matrix = pd.DataFrame(index=columns, columns=columns, dtype=float)\n",
    "\n",
    "    # Calculate Cohen's kappa for each pair of columns\n",
    "    for i in range(len(columns)):\n",
    "        for j in range(i+1, len(columns)):\n",
    "            kappa_score = cohen_kappa_score(data[columns[i]], data[columns[j]])\n",
    "            kappa_matrix.at[columns[i], columns[j]] = kappa_score\n",
    "            kappa_matrix.at[columns[j], columns[i]] = kappa_score\n",
    "\n",
    "    # Fill diagonal with 1, as kappa of a rater with themselves is perfect agreement\n",
    "    np.fill_diagonal(kappa_matrix.values, 1)\n",
    "    \n",
    "    return kappa_matrix\n",
    "\n",
    "def plot_kappa_matrix(kappa_matrix):\n",
    "    plt.figure(figsize=(10, 8))\n",
    "    sns.heatmap(kappa_matrix, annot=True, cmap=\"coolwarm\", fmt=\".2f\", cbar=True, linewidths=1, linecolor='black')\n",
    "    plt.title('Cohen\\'s Kappa Score Matrix')\n",
    "    plt.show()\n",
    "\n",
    "csv_path = 'Marks\\Processed\\Multi Single Human Run.csv'\n",
    "kappa_matrix = calculate_cohens_kappa(csv_path)\n",
    "print(kappa_matrix)\n",
    "plot_kappa_matrix(kappa_matrix)\n"
   ]
  },
  {
   "cell_type": "code",
   "execution_count": 25,
   "metadata": {},
   "outputs": [
    {
     "name": "stdout",
     "output_type": "stream",
     "text": [
      "Krippendorff's Alpha: 0.017235642443123034\n"
     ]
    }
   ],
   "source": [
    "import pandas as pd\n",
    "import krippendorff\n",
    "\n",
    "def calculate_krippendorff_alpha(file_path):\n",
    "    data = pd.read_csv(file_path)\n",
    "    \n",
    "    columns_of_interest = [\n",
    "        'Prolongation', 'Block', 'SoundRep', 'WordRep','Interjection'\n",
    "    ]\n",
    "    \n",
    "    # Extract only the necessary columns\n",
    "    annotations = data[columns_of_interest]\n",
    "    \n",
    "    # Convert the data to the format needed by krippendorff.alpha\n",
    "    # Transpose and convert DataFrame to numpy array for computation\n",
    "    reliability_data = annotations.T.to_numpy()\n",
    "    alpha = krippendorff.alpha(reliability_data=reliability_data, level_of_measurement='nominal')\n",
    "    \n",
    "    return alpha\n",
    "\n",
    "file_path = r'C:\\Users\\ojmar\\Documents\\Uni\\Synoptic Project\\StammerScore\\Data\\combined_and_filtered_strict_output_full.csv'\n",
    "alpha_value = calculate_krippendorff_alpha(file_path)\n",
    "print(\"Krippendorff's Alpha:\", alpha_value)\n"
   ]
  },
  {
   "cell_type": "markdown",
   "metadata": {},
   "source": [
    "- Alpha = 1: Perfect agreement among raters.\n",
    "- Alpha > 0.8: Strong agreement, generally considered acceptable for drawing conclusions from the data.\n",
    "- Alpha > 0.67: Moderate agreement, sufficient for tentative conclusions to be drawn.\n",
    "- Alpha > 0.0: Marginal agreement; the reliability of the data might be questionable for some purposes.\n",
    "- Alpha = 0: Agreement equivalent to chance.\n",
    "- Alpha < 0: Disagreement among raters; the raters are systematically contradicting each other."
   ]
  },
  {
   "cell_type": "code",
   "execution_count": 26,
   "metadata": {},
   "outputs": [
    {
     "name": "stdout",
     "output_type": "stream",
     "text": [
      "Fleiss' Kappa: 0.5101727310808659\n"
     ]
    }
   ],
   "source": [
    "import pandas as pd\n",
    "from statsmodels.stats.inter_rater import fleiss_kappa\n",
    "\n",
    "def calculate_fleiss_kappa(file_path):\n",
    "    data = pd.read_csv(file_path)\n",
    "    \n",
    "    # skip the 'ChunkName' column\n",
    "    ratings_matrix = data.iloc[:, 1:]\n",
    "    rating_counts = ratings_matrix.apply(pd.Series.value_counts, axis=1).fillna(0)\n",
    "    \n",
    "    if 0 not in rating_counts.columns:\n",
    "        rating_counts[0] = 0\n",
    "    if 1 not in rating_counts.columns:\n",
    "        rating_counts[1] = 0\n",
    "    \n",
    "    rating_counts = rating_counts[[0, 1]]\n",
    "    kappa = fleiss_kappa(rating_counts.values, method='fleiss')\n",
    "\n",
    "    return kappa\n",
    "\n",
    "file_path = r'C:\\Users\\ojmar\\Documents\\Uni\\Synoptic Project\\StammerScore\\Evaluation\\Marks\\Processed+ReactionTime\\only_human_predictions.csv'\n",
    "kappa_value = calculate_fleiss_kappa(file_path)\n",
    "print(\"Fleiss' Kappa:\", kappa_value)\n"
   ]
  },
  {
   "cell_type": "markdown",
   "metadata": {},
   "source": [
    "- 0 to 0.20: Slight agreement\n",
    "- 0.21 to 0.40: Fair agreement\n",
    "- 0.41 to 0.60: Moderate agreement\n",
    "- 0.61 to 0.80: Substantial agreement\n",
    "- 0.81 to 1.00: Almost perfect agreement"
   ]
  }
 ],
 "metadata": {
  "kernelspec": {
   "display_name": "Python 3",
   "language": "python",
   "name": "python3"
  },
  "language_info": {
   "codemirror_mode": {
    "name": "ipython",
    "version": 3
   },
   "file_extension": ".py",
   "mimetype": "text/x-python",
   "name": "python",
   "nbconvert_exporter": "python",
   "pygments_lexer": "ipython3",
   "version": "3.10.0"
  }
 },
 "nbformat": 4,
 "nbformat_minor": 2
}
