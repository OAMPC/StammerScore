{
 "cells": [
  {
   "cell_type": "markdown",
   "metadata": {},
   "source": [
    "This model is more strict with what it defines as a fluent or disfluent moment. i.e. more labellers must have marked it as dsyfluent for it to be labbeled so.\n",
    "\n",
    "difficult to understand field doesn't seem helpful\n",
    "does interjections count ... yes for now "
   ]
  },
  {
   "cell_type": "code",
   "execution_count": 1,
   "metadata": {},
   "outputs": [
    {
     "name": "stdout",
     "output_type": "stream",
     "text": [
      "       Fluency Label\n",
      "count   25869.000000\n",
      "mean        0.386370\n",
      "std         0.486926\n",
      "min         0.000000\n",
      "25%         0.000000\n",
      "50%         0.000000\n",
      "75%         1.000000\n",
      "max         1.000000\n"
     ]
    }
   ],
   "source": [
    "import pandas as pd\n",
    "from pathlib import Path\n",
    "\n",
    "def read_data(csv_path):\n",
    "    \"\"\"Read the CSV file into a DataFrame.\"\"\"\n",
    "    return pd.read_csv(csv_path)\n",
    "\n",
    "def compute_fluency_label(df, columns):\n",
    "    \"\"\"Compute the fluency label based on the average of specified columns.\"\"\"\n",
    "    fluency_label = (df[columns].mean(axis=1) < 0.3).astype(int)\n",
    "    df['Fluency Label'] = fluency_label\n",
    "    return df\n",
    "\n",
    "def remove_unwanted_rows(df, column, value):\n",
    "    \"\"\"Remove rows where the column matches the specified value.\"\"\"\n",
    "    return df[df[column] != value]\n",
    "\n",
    "def generate_clip_paths(df, base_path):\n",
    "    \"\"\"Generate file paths for audio clips based on DataFrame entries.\"\"\"\n",
    "    def path_for_row(row):\n",
    "        folder = Path(base_path) / row['Show'] / str(int(row['EpId']))\n",
    "        filename = f\"{row['Show']}_{int(row['EpId'])}_{int(row['ClipId'])}.wav\"\n",
    "        return str(folder / filename)\n",
    "    \n",
    "    df['ClipPath'] = df.apply(path_for_row, axis=1)\n",
    "    return df\n",
    "\n",
    "# Main script\n",
    "csv_file_path = Path(r\"C:\\Users\\ojmar\\Documents\\Uni\\StammerScore\\ml-stuttering-events-dataset\\SEP-28k_labels.csv\")\n",
    "base_path = Path(r\"C:\\Users\\ojmar\\Documents\\Uni\\StammerScore\\ml-stuttering-events-dataset\\[CLIP_DIR]\")\n",
    "\n",
    "df = read_data(csv_file_path)\n",
    "cols_to_avg = ['Prolongation', 'Block', 'SoundRep', 'WordRep', 'Interjection']\n",
    "df = compute_fluency_label(df, cols_to_avg)\n",
    "df = remove_unwanted_rows(df, 'Show', 'StrongVoices')\n",
    "df = generate_clip_paths(df, base_path)\n",
    "\n",
    "simple_df = df[['ClipPath', 'Fluency Label']]\n",
    "print(simple_df.describe())"
   ]
  },
  {
   "cell_type": "markdown",
   "metadata": {},
   "source": [
    "# Preprocessing Audio Data\n",
    "\n",
    "Audio Normalization: Ensure all audio clips are at a consistent volume level.\n",
    "Sampling Rate Consistency: Convert all audio files to the same sampling rate if they differ.\n",
    "Audio Length: Consider making all audio clips the same length either by trimming or padding shorter clips.\n",
    "Feature Extraction: Convert audio signals into a form that machine learning algorithms can work with. Common features include Mel-frequency cepstral coefficients (MFCCs), spectrograms, or even raw waveforms for deep learning models."
   ]
  },
  {
   "cell_type": "markdown",
   "metadata": {},
   "source": [
    "## Audio Normalization"
   ]
  },
  {
   "cell_type": "code",
   "execution_count": 30,
   "metadata": {},
   "outputs": [
    {
     "name": "stdout",
     "output_type": "stream",
     "text": [
      "         Show  EpId  ClipId     Start      Stop  Unsure  PoorAudioQuality  \\\n",
      "0  HeStutters     0       0  31900320  31948320       0                 0   \n",
      "1  HeStutters     0       1  31977120  32025120       0                 0   \n",
      "2  HeStutters     0       2  34809760  34857760       0                 0   \n",
      "3  HeStutters     0       3  35200640  35248640       0                 0   \n",
      "4  HeStutters     0       4  35721920  35769920       0                 0   \n",
      "\n",
      "   Prolongation  Block  SoundRep  WordRep  DifficultToUnderstand  \\\n",
      "0             0      0         0        0                      0   \n",
      "1             0      0         0        0                      0   \n",
      "2             0      0         0        0                      0   \n",
      "3             1      0         0        0                      0   \n",
      "4             0      0         0        0                      0   \n",
      "\n",
      "   Interjection  NoStutteredWords  NaturalPause  Music  NoSpeech  \\\n",
      "0             0                 3             1      0         0   \n",
      "1             0                 3             1      0         0   \n",
      "2             0                 3             0      0         0   \n",
      "3             0                 2             0      0         0   \n",
      "4             0                 3             0      0         0   \n",
      "\n",
      "   Fluency Label                                           ClipPath       RMS  \n",
      "0              1  C:\\Users\\ojmar\\Documents\\Uni\\StammerScore\\ml-s...  0.036081  \n",
      "1              1  C:\\Users\\ojmar\\Documents\\Uni\\StammerScore\\ml-s...  0.055818  \n",
      "2              1  C:\\Users\\ojmar\\Documents\\Uni\\StammerScore\\ml-s...  0.061524  \n",
      "3              1  C:\\Users\\ojmar\\Documents\\Uni\\StammerScore\\ml-s...  0.061526  \n",
      "4              1  C:\\Users\\ojmar\\Documents\\Uni\\StammerScore\\ml-s...  0.064194  \n"
     ]
    }
   ],
   "source": [
    "import librosa\n",
    "\n",
    "# Function to calculate RMS of an audio clip\n",
    "def calculate_rms(audio_path):\n",
    "    y, _ = librosa.load(audio_path)\n",
    "    rms = librosa.feature.rms(y=y).mean()\n",
    "    return rms\n",
    "\n",
    "# Calculate RMS for each clip and append it to the DataFrame\n",
    "df['RMS'] = df['ClipPath'].apply(calculate_rms)\n",
    "\n",
    "# Display the updated DataFrame\n",
    "print(df.head())\n"
   ]
  },
  {
   "cell_type": "code",
   "execution_count": 34,
   "metadata": {},
   "outputs": [
    {
     "data": {
      "text/plain": [
       "count    25869.000000\n",
       "mean         0.048424\n",
       "std          0.029405\n",
       "min          0.000221\n",
       "25%          0.027370\n",
       "50%          0.044128\n",
       "75%          0.064212\n",
       "max          0.308333\n",
       "Name: RMS, dtype: float64"
      ]
     },
     "execution_count": 34,
     "metadata": {},
     "output_type": "execute_result"
    }
   ],
   "source": [
    "df['RMS'].describe()"
   ]
  },
  {
   "cell_type": "code",
   "execution_count": 32,
   "metadata": {},
   "outputs": [],
   "source": [
    "output_file_path = 'RMS values.csv'\n",
    "df.to_csv(output_file_path, index=False)"
   ]
  },
  {
   "cell_type": "code",
   "execution_count": 33,
   "metadata": {},
   "outputs": [
    {
     "data": {
      "image/png": "[encoded data removed]",
      "text/plain": [
       "<Figure size 640x480 with 1 Axes>"
      ]
     },
     "metadata": {},
     "output_type": "display_data"
    }
   ],
   "source": [
    "import seaborn as sns\n",
    "import matplotlib.pyplot as plt\n",
    "\n",
    "# Create the violin plot\n",
    "sns.violinplot(x=df['RMS'])\n",
    "\n",
    "# Adding titles and labels (optional, but recommended for clarity)\n",
    "plt.title('Violin Plot of RMS Values')\n",
    "plt.xlabel('RMS Values')\n",
    "\n",
    "# Display the plot\n",
    "plt.show()"
   ]
  },
  {
   "cell_type": "markdown",
   "metadata": {},
   "source": [
    "Next steps:\n",
    "Determine the Target RMS Value: Decide on a target RMS value to normalize all clips to. This could be based on your application's specific needs or preferences. A common approach is to use the average RMS value across all clips, but you might choose a different target, such as the 75th percentile, to preserve more of the dynamic range in the clips.\n",
    "\n",
    "Calculate the Adjustment Factor: For each audio clip, calculate the adjustment factor needed to bring its RMS value to the target level. The adjustment factor is the ratio of the target RMS to the clip's current RMS.\n",
    "\n",
    "Apply the Adjustment Factor: Adjust each clip's volume by multiplying its audio signal by the calculated adjustment factor. This operation should normalize the RMS value of the clip to the target level.\n",
    "\n",
    "Consider Clipping: Ensure that the normalization process does not cause any audio clip to clip (i.e., exceed the maximum amplitude allowed in the audio format). If the adjusted signal exceeds this limit, you might need to apply dynamic range compression or limit the gain applied to prevent clipping."
   ]
  },
  {
   "cell_type": "code",
   "execution_count": null,
   "metadata": {},
   "outputs": [],
   "source": [
    "import numpy as np\n",
    "\n",
    "# Assuming `audio_signals` is a list where each element is a numpy array representing an audio clip\n",
    "# and `target_rms` is the RMS level you want to normalize all clips to\n",
    "\n",
    "def calculate_rms(audio_signal):\n",
    "    return np.sqrt(np.mean(np.square(audio_signal)))\n",
    "\n",
    "def normalize_audio_clips(audio_signals, target_rms):\n",
    "    normalized_signals = []\n",
    "    for signal in audio_signals:\n",
    "        current_rms = calculate_rms(signal)\n",
    "        adjustment_factor = target_rms / current_rms\n",
    "        # Apply adjustment factor, with a check to prevent clipping\n",
    "        normalized_signal = np.minimum(signal * adjustment_factor, 1.0)\n",
    "        normalized_signals.append(normalized_signal)\n",
    "    return normalized_signals\n",
    "\n",
    "# Example target RMS\n",
    "target_rms = 0.05  # This value should be chosen based on your specific needs\n",
    "\n",
    "# Normalize all clips (this is a conceptual example; implementation details may vary)\n",
    "normalized_audio_clips = normalize_audio_clips(audio_signals, target_rms)\n"
   ]
  },
  {
   "cell_type": "markdown",
   "metadata": {},
   "source": [
    "# Modelling"
   ]
  },
  {
   "cell_type": "code",
   "execution_count": null,
   "metadata": {},
   "outputs": [],
   "source": [
    "import librosa\n",
    "import numpy as np\n",
    "import pandas as pd\n",
    "from pathlib import Path\n",
    "from sklearn.model_selection import train_test_split\n",
    "from sklearn.ensemble import RandomForestClassifier\n",
    "from sklearn.metrics import accuracy_score\n",
    "from sklearn.preprocessing import StandardScaler\n",
    "from joblib import dump\n",
    "\n",
    "def load_and_preprocess_data(df_path, features_csv_path, scaler_path):\n",
    "    \"\"\"Loads or generates data, extracts features if necessary, applies scaling, and optionally saves features to a CSV.\"\"\"\n",
    "    if features_csv_path.is_file():\n",
    "        # Load features and labels from the CSV\n",
    "        features_df = pd.read_csv(features_csv_path)\n",
    "        labels = features_df['Label'].values\n",
    "        features = features_df.drop(columns=['Label']).values\n",
    "    else:\n",
    "        # Load and process data from scratch\n",
    "        df = pd.read_csv(df_path)\n",
    "        features = np.array([extract_features(path) for path in df['ClipPath']])\n",
    "        labels = df['Fluency Label'].values\n",
    "        \n",
    "        # Save features and labels to a CSV if a path is provided\n",
    "        if features_csv_path:\n",
    "            features_df = pd.DataFrame(features)\n",
    "            features_df['Label'] = labels\n",
    "            features_df.to_csv(features_csv_path, index=False)\n",
    "\n",
    "    X_train, X_test, y_train, y_test = train_test_split(features, labels, test_size=0.2, random_state=42)\n",
    "    \n",
    "    scaler = StandardScaler().fit(X_train)\n",
    "    X_train_scaled = scaler.transform(X_train)\n",
    "    X_test_scaled = scaler.transform(X_test)\n",
    "    \n",
    "    # Save the scaler for future use\n",
    "    dump(scaler, scaler_path)\n",
    "    \n",
    "    return X_train_scaled, X_test_scaled, y_train, y_test\n",
    "\n",
    "# Main script\n",
    "df_path = r'C:\\Users\\ojmar\\Documents\\Uni\\StammerScore\\ml-stuttering-events-dataset\\SEP-28k_labels.csv'\n",
    "features_csv_path_input = ''  # Optional: Path to an existing features CSV. Leave as '' to generate from scratch.\n",
    "features_csv_path = Path(features_csv_path_input) if features_csv_path_input else Path(r'C:\\Users\\ojmar\\Documents\\Uni\\StammerScore\\ml-models\\features_labels.csv')\n",
    "scaler_path = Path(r'C:\\Users\\ojmar\\Documents\\Uni\\StammerScore\\ml-models\\binary-randforrest-2-SCALER.joblib')\n",
    "model_path = Path(r'C:\\Users\\ojmar\\Documents\\Uni\\StammerScore\\ml-models\\binary-randforrest-2.joblib')\n",
    "\n",
    "# Check if a custom path for the features CSV is provided, if not, use the default path\n",
    "if not features_csv_path_input:\n",
    "    print(\"No custom features CSV path provided. Generating features and saving to default path.\")\n",
    "else:\n",
    "    print(f\"Using provided features CSV path: {features_csv_path}\")\n",
    "\n",
    "# Load, preprocess data, and save features to a CSV if necessary\n",
    "X_train, X_test, y_train, y_test = load_and_preprocess_data(df_path, features_csv_path, scaler_path)\n",
    "\n",
    "# Train the model and evaluate its performance\n",
    "train_and_evaluate(X_train, X_test, y_train, y_test, model_path)\n"
   ]
  },
  {
   "cell_type": "code",
   "execution_count": 7,
   "metadata": {},
   "outputs": [
    {
     "name": "stdout",
     "output_type": "stream",
     "text": [
      "No custom features CSV path provided. Generating features and saving to default path.\n",
      "Model Accuracy: 0.65\n"
     ]
    }
   ],
   "source": [
    "import librosa\n",
    "import numpy as np\n",
    "import pandas as pd\n",
    "from pathlib import Path\n",
    "from sklearn.model_selection import train_test_split\n",
    "from sklearn.ensemble import RandomForestClassifier\n",
    "from sklearn.metrics import accuracy_score\n",
    "from sklearn.preprocessing import StandardScaler\n",
    "from joblib import dump\n",
    "\n",
    "def extract_features(audio_path):\n",
    "    \"\"\"Extracts MFCC features from an audio file.\"\"\"\n",
    "    y, sr = librosa.load(audio_path)\n",
    "    mfccs = np.mean(librosa.feature.mfcc(y=y, sr=sr, n_mfcc=13), axis=1)\n",
    "    return mfccs\n",
    "\n",
    "def load_and_preprocess_data(df, features_csv_path, scaler_path):\n",
    "    \"\"\"Loads or generates data, extracts features if necessary, applies scaling, and optionally saves features to a CSV.\"\"\"\n",
    "    if features_csv_path.is_file():\n",
    "        # Load features and labels from the CSV\n",
    "        features_df = pd.read_csv(features_csv_path)\n",
    "        labels = features_df['Label'].values\n",
    "        features = features_df.drop(columns=['Label']).values\n",
    "    else:\n",
    "        # Load and process data from scratch\n",
    "        features = np.array([extract_features(path) for path in df['ClipPath']])\n",
    "        labels = df['Fluency Label'].values\n",
    "        \n",
    "        # Save features and labels to a CSV if a path is provided\n",
    "        if features_csv_path:\n",
    "            features_df = pd.DataFrame(features)\n",
    "            features_df['Label'] = labels\n",
    "            features_df.to_csv(features_csv_path, index=False)\n",
    "\n",
    "    X_train, X_test, y_train, y_test = train_test_split(features, labels, test_size=0.2, random_state=42)\n",
    "    \n",
    "    scaler = StandardScaler().fit(X_train)\n",
    "    X_train_scaled = scaler.transform(X_train)\n",
    "    X_test_scaled = scaler.transform(X_test)\n",
    "    \n",
    "    # Save the scaler for future use\n",
    "    dump(scaler, scaler_path)\n",
    "    \n",
    "    return X_train_scaled, X_test_scaled, y_train, y_test\n",
    "\n",
    "def train_and_evaluate(X_train, X_test, y_train, y_test, model_path):\n",
    "    \"\"\"Trains a RandomForestClassifier and evaluates its accuracy.\"\"\"\n",
    "    model = RandomForestClassifier(n_estimators=100, random_state=42)\n",
    "    model.fit(X_train, y_train)\n",
    "    y_pred = model.predict(X_test)\n",
    "    \n",
    "    accuracy = accuracy_score(y_test, y_pred)\n",
    "    print(f'Model Accuracy: {accuracy:.2f}')\n",
    "    \n",
    "    # Save the trained model\n",
    "    dump(model, model_path)\n",
    "\n",
    "features_csv_path_input = ''  # Optional: Path to an existing features CSV. Leave as '' to generate from scratch.\n",
    "features_csv_path = Path(features_csv_path_input) if features_csv_path_input else Path(r'C:\\Users\\ojmar\\Documents\\Uni\\StammerScore\\ml-models\\features_labels.csv')\n",
    "scaler_path = Path(r'C:\\Users\\ojmar\\Documents\\Uni\\StammerScore\\ml-models\\binary-randforrest-2-SCALER.joblib')\n",
    "model_path = Path(r'C:\\Users\\ojmar\\Documents\\Uni\\StammerScore\\ml-models\\binary-randforrest-2.joblib')\n",
    "\n",
    "# Check if a custom path for the features CSV is provided, if not, use the default path\n",
    "if not features_csv_path_input:\n",
    "    print(\"No custom features CSV path provided. Generating features and saving to default path.\")\n",
    "else:\n",
    "    print(f\"Using provided features CSV path: {features_csv_path}\")\n",
    "\n",
    "# Load, preprocess data, and save features to a CSV if necessary\n",
    "X_train, X_test, y_train, y_test = load_and_preprocess_data(simple_df, features_csv_path, scaler_path)\n",
    "\n",
    "# Train the model and evaluate its performance\n",
    "train_and_evaluate(X_train, X_test, y_train, y_test, model_path)\n"
   ]
  },
  {
   "cell_type": "code",
   "execution_count": null,
   "metadata": {},
   "outputs": [],
   "source": [
    "#import model and calc y_pred again and maybe add in feature saving"
   ]
  },
  {
   "cell_type": "code",
   "execution_count": 5,
   "metadata": {},
   "outputs": [
    {
     "ename": "NameError",
     "evalue": "name 'y_pred' is not defined",
     "output_type": "error",
     "traceback": [
      "\u001b[1;31m---------------------------------------------------------------------------\u001b[0m",
      "\u001b[1;31mNameError\u001b[0m                                 Traceback (most recent call last)",
      "Cell \u001b[1;32mIn[5], line 6\u001b[0m\n\u001b[0;32m      3\u001b[0m \u001b[38;5;28;01mimport\u001b[39;00m \u001b[38;5;21;01mmatplotlib\u001b[39;00m\u001b[38;5;21;01m.\u001b[39;00m\u001b[38;5;21;01mpyplot\u001b[39;00m \u001b[38;5;28;01mas\u001b[39;00m \u001b[38;5;21;01mplt\u001b[39;00m\n\u001b[0;32m      5\u001b[0m \u001b[38;5;66;03m# Calculate confusion matrix\u001b[39;00m\n\u001b[1;32m----> 6\u001b[0m conf_mat \u001b[38;5;241m=\u001b[39m confusion_matrix(y_test, \u001b[43my_pred\u001b[49m)\n\u001b[0;32m      8\u001b[0m \u001b[38;5;66;03m# Plot confusion matrix\u001b[39;00m\n\u001b[0;32m      9\u001b[0m plt\u001b[38;5;241m.\u001b[39mfigure(figsize\u001b[38;5;241m=\u001b[39m(\u001b[38;5;241m8\u001b[39m, \u001b[38;5;241m6\u001b[39m))\n",
      "\u001b[1;31mNameError\u001b[0m: name 'y_pred' is not defined"
     ]
    }
   ],
   "source": [
    "from sklearn.metrics import confusion_matrix\n",
    "import seaborn as sns\n",
    "import matplotlib.pyplot as plt\n",
    "\n",
    "# Calculate confusion matrix\n",
    "conf_mat = confusion_matrix(y_test, y_pred)\n",
    "\n",
    "# Plot confusion matrix\n",
    "plt.figure(figsize=(8, 6))\n",
    "sns.heatmap(conf_mat, annot=True, fmt='d', cmap=\"Blues\", xticklabels=[0, 1], yticklabels=[0, 1])\n",
    "plt.title('Confusion Matrix')\n",
    "plt.xlabel('Predicted Label')\n",
    "plt.ylabel('True Label')\n",
    "plt.show()\n"
   ]
  },
  {
   "cell_type": "markdown",
   "metadata": {},
   "source": [
    "# Usage"
   ]
  },
  {
   "cell_type": "code",
   "execution_count": 26,
   "metadata": {},
   "outputs": [
    {
     "name": "stdout",
     "output_type": "stream",
     "text": [
      "The final fluency score is: 0.18\n"
     ]
    }
   ],
   "source": [
    "import librosa\n",
    "import numpy as np\n",
    "from sklearn.preprocessing import StandardScaler\n",
    "from joblib import load\n",
    "# import sounddevice as sd\n",
    "\n",
    "# Feature extraction function\n",
    "def extract_features_usage(audio_signal, sr):\n",
    "    mfccs = np.mean(librosa.feature.mfcc(y=audio_signal, sr=sr, n_mfcc=13), axis=1)\n",
    "    # You can add more features here\n",
    "    return mfccs\n",
    "\n",
    "\n",
    "# Function to split the audio signal into chunks of 3 seconds\n",
    "def split_audio_signal(y, sr, chunk_length=3):\n",
    "    chunk_size = chunk_length * sr  # Chunk size in samples\n",
    "    chunks = [y[i:i + chunk_size] for i in range(0, len(y), chunk_size) if i + chunk_size <= len(y)]\n",
    "    return chunks\n",
    "\n",
    "# Function to make predictions on chunks and calculate final score\n",
    "def predict_and_score(audio_path, model):\n",
    "    # Load the audio file\n",
    "    y, sr = librosa.load(audio_path, sr=None)\n",
    "    # Split the audio signal into 3-second chunks\n",
    "    chunks = split_audio_signal(y, sr)\n",
    "\n",
    "\n",
    "    # Load the saved scaler\n",
    "    scaler_path = r'C:\\Users\\ojmar\\Documents\\Uni\\StammerScore\\ml-models\\binary-randforrest-SCALER.joblib' \n",
    "    scaler = load(scaler_path)\n",
    "\n",
    "    predictions = []\n",
    "    for chunk in chunks:\n",
    "        features = extract_features_usage(chunk, sr)\n",
    "        features = scaler.transform(features.reshape(1, -1))  # Scaling the features\n",
    "        predictions.append(model.predict(features)[0])\n",
    "    \n",
    "    # Calculate the final fluency score (you might want to use a different formula here)\n",
    "    fluency_score = np.mean(predictions)\n",
    "\n",
    "    predictions_df = pd.DataFrame(predictions, columns=['Prediction'])\n",
    "    predictions_df.to_csv('predictions.csv', index=False)\n",
    "    \n",
    "    return fluency_score\n",
    "\n",
    "# Example: Predict the fluency score of an audio file\n",
    "audio_file_path = r'C:\\Users\\ojmar\\Documents\\Uni\\StammerScore\\ml-stuttering-events-dataset\\test_audio\\do-schools-kill-creativity-sir-ken-robinson-ted.wav'\n",
    "# audio_file_path = r'C:\\Users\\ojmar\\Documents\\Uni\\StammerScore\\ml-stuttering-events-dataset\\test_audio\\Creating-a-Safe-Space-at-Work-For People-Who-Stutter.wav'\n",
    "# audio_file_path = r'C:\\Users\\ojmar\\Documents\\Uni\\StammerScore\\ml-stuttering-events-dataset\\[WAV_DIR]\\FluencyBank\\010.wav'\n",
    "\n",
    "final_score = predict_and_score(audio_file_path, model)\n",
    "print(f\"The final fluency score is: {final_score}\")\n",
    "\n"
   ]
  },
  {
   "cell_type": "code",
   "execution_count": 28,
   "metadata": {},
   "outputs": [
    {
     "name": "stdout",
     "output_type": "stream",
     "text": [
      "The final fluency score is: 0.20903954802259886\n"
     ]
    }
   ],
   "source": [
    "import librosa\n",
    "import numpy as np\n",
    "import pandas as pd\n",
    "from sklearn.preprocessing import StandardScaler\n",
    "from joblib import load\n",
    "import soundfile as sf\n",
    "import os\n",
    "\n",
    "# Feature extraction function remains the same\n",
    "\n",
    "# Modified function to split the audio signal into chunks of 3 seconds and return chunk indices\n",
    "def split_audio_signal(y, sr, chunk_length=3):\n",
    "    chunk_size = chunk_length * sr  # Chunk size in samples\n",
    "    chunks = [(y[i:i + chunk_size], i // chunk_size) for i in range(0, len(y), chunk_size) if i + chunk_size <= len(y)]\n",
    "    return chunks\n",
    "\n",
    "# Updated function to make predictions on chunks, calculate final score, save chunks, and save predictions with chunk names\n",
    "def predict_and_score(audio_path, model):\n",
    "    # Load the audio file\n",
    "    y, sr = librosa.load(audio_path, sr=None)\n",
    "    # Split the audio signal into 3-second chunks\n",
    "    chunks = split_audio_signal(y, sr)\n",
    "\n",
    "    # Load the saved scaler\n",
    "    scaler_path = r'C:\\Users\\ojmar\\Documents\\Uni\\StammerScore\\ml-models\\binary-randforrest-SCALER.joblib' \n",
    "    scaler = load(scaler_path)\n",
    "\n",
    "    chunks_directory = r'C:\\Users\\ojmar\\Documents\\Uni\\StammerScore\\temp-model-storage'\n",
    "\n",
    "    predictions = []\n",
    "    chunk_names = []\n",
    "    for chunk, index in chunks:\n",
    "        # Save each chunk as an audio file\n",
    "        chunk_name = f\"chunk_{index}.wav\"\n",
    "        chunk_path = os.path.join(chunks_directory, chunk_name)\n",
    "        sf.write(chunk_path, chunk, sr)\n",
    "        chunk_names.append(chunk_name)\n",
    "\n",
    "        features = extract_features_usage(chunk, sr)\n",
    "        features = scaler.transform(features.reshape(1, -1))  # Scaling the features\n",
    "        predictions.append(model.predict(features)[0])\n",
    "\n",
    "    # Create a DataFrame with chunk names and predictions\n",
    "    predictions_df = pd.DataFrame({\n",
    "        'ChunkName': chunk_names,\n",
    "        'Prediction': predictions\n",
    "    })\n",
    "    predictions_df.to_csv('chunk_predictions.csv', index=False)\n",
    "\n",
    "    # Calculate the final fluency score (optional)\n",
    "    fluency_score = np.mean(predictions)\n",
    "\n",
    "    return fluency_score\n",
    "\n",
    "\n",
    "\n",
    "# Example: Predict the fluency score of an audio file\n",
    "# audio_file_path = r'C:\\Users\\ojmar\\Documents\\Uni\\StammerScore\\ml-stuttering-events-dataset\\test_audio\\do-schools-kill-creativity-sir-ken-robinson-ted.wav'\n",
    "# audio_file_path = r'C:\\Users\\ojmar\\Documents\\Uni\\StammerScore\\ml-stuttering-events-dataset\\test_audio\\Creating-a-Safe-Space-at-Work-For People-Who-Stutter.wav'\n",
    "audio_file_path = r'C:\\Users\\ojmar\\Documents\\Uni\\StammerScore\\ml-stuttering-events-dataset\\[WAV_DIR]\\FluencyBank\\010.wav'\n",
    "\n",
    "final_score = predict_and_score(audio_file_path, model)\n",
    "print(f\"The final fluency score is: {final_score}\")\n"
   ]
  }
 ],
 "metadata": {
  "kernelspec": {
   "display_name": "venv",
   "language": "python",
   "name": "venv"
  },
  "language_info": {
   "codemirror_mode": {
    "name": "ipython",
    "version": 3
   },
   "file_extension": ".py",
   "mimetype": "text/x-python",
   "name": "python",
   "nbconvert_exporter": "python",
   "pygments_lexer": "ipython3",
   "version": "3.10.0"
  }
 },
 "nbformat": 4,
 "nbformat_minor": 2
}
