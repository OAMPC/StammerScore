{
 "cells": [
  {
   "cell_type": "code",
   "execution_count": null,
   "metadata": {},
   "outputs": [],
   "source": [
    "import pandas as pd\n",
    "\n",
    "# Specify the path to your CSV file\n",
    "csv_file_path = r\"C:\\Users\\ojmar\\Documents\\Uni\\StammerScore\\ml-stuttering-events-dataset\\SEP-28k_labels.csv\"\n",
    "\n",
    "# Use pandas to read the CSV file\n",
    "df = pd.read_csv(csv_file_path)\n",
    "\n",
    "cols_to_avg = ['Prolongation', 'Block', 'SoundRep', 'WordRep', 'DifficultToUnderstand', 'Interjection']\n",
    "df['avg'] = df[cols_to_avg].mean(axis=1)\n",
    "\n",
    "# Assign values to \"Fluency Label\" based on the calculated average\n",
    "df['Fluency Label'] = (df['avg'] <= 0.4).astype(int)\n",
    "\n",
    "# Drop the temporary average column if not needed\n",
    "df.drop(columns=['avg'], inplace=True)\n",
    "\n",
    "# Display the DataFrame to verify the results\n",
    "print(df.head())"
   ]
  },
  {
   "cell_type": "code",
   "execution_count": 28,
   "metadata": {},
   "outputs": [],
   "source": [
    "# Remove rows where the Show value is \"StrongVoices\"\n",
    "df = df.loc[df['Show'] != 'StrongVoices']"
   ]
  },
  {
   "cell_type": "code",
   "execution_count": 29,
   "metadata": {},
   "outputs": [
    {
     "name": "stdout",
     "output_type": "stream",
     "text": [
      "         Show  EpId  ClipId     Start      Stop  Unsure  PoorAudioQuality  \\\n",
      "0  HeStutters     0       0  31900320  31948320       0                 0   \n",
      "1  HeStutters     0       1  31977120  32025120       0                 0   \n",
      "2  HeStutters     0       2  34809760  34857760       0                 0   \n",
      "3  HeStutters     0       3  35200640  35248640       0                 0   \n",
      "4  HeStutters     0       4  35721920  35769920       0                 0   \n",
      "\n",
      "   Prolongation  Block  SoundRep  WordRep  DifficultToUnderstand  \\\n",
      "0             0      0         0        0                      0   \n",
      "1             0      0         0        0                      0   \n",
      "2             0      0         0        0                      0   \n",
      "3             1      0         0        0                      0   \n",
      "4             0      0         0        0                      0   \n",
      "\n",
      "   Interjection  NoStutteredWords  NaturalPause  Music  NoSpeech  \\\n",
      "0             0                 3             1      0         0   \n",
      "1             0                 3             1      0         0   \n",
      "2             0                 3             0      0         0   \n",
      "3             0                 2             0      0         0   \n",
      "4             0                 3             0      0         0   \n",
      "\n",
      "   Fluency Label                                           ClipPath  \n",
      "0              1  C:\\Users\\ojmar\\Documents\\Uni\\StammerScore\\ml-s...  \n",
      "1              1  C:\\Users\\ojmar\\Documents\\Uni\\StammerScore\\ml-s...  \n",
      "2              1  C:\\Users\\ojmar\\Documents\\Uni\\StammerScore\\ml-s...  \n",
      "3              1  C:\\Users\\ojmar\\Documents\\Uni\\StammerScore\\ml-s...  \n",
      "4              1  C:\\Users\\ojmar\\Documents\\Uni\\StammerScore\\ml-s...  \n"
     ]
    }
   ],
   "source": [
    "# Define the base path where the clips are stored\n",
    "base_path = r\"C:\\Users\\ojmar\\Documents\\Uni\\StammerScore\\ml-stuttering-events-dataset\\[CLIP_DIR]\"\n",
    "\n",
    "# Function to generate the file path for each row\n",
    "def generate_clip_path(row):\n",
    "    # Format the path using the Show, EpId, and ClipId, ensuring EpId and ClipId are integers\n",
    "    return f\"{base_path}\\\\{row['Show']}\\\\{int(row['EpId'])}\\\\{row['Show']}_{int(row['EpId'])}_{int(row['ClipId'])}.wav\"\n",
    "\n",
    "# Apply the function to each row of the DataFrame to create a new column 'ClipPath'\n",
    "df['ClipPath'] = df.apply(generate_clip_path, axis=1)\n",
    "\n",
    "# Display the DataFrame to verify the new column\n",
    "print(df.head())\n"
   ]
  },
  {
   "cell_type": "markdown",
   "metadata": {},
   "source": [
    "# Preprocessing Audio Data\n",
    "\n",
    "Audio Normalization: Ensure all audio clips are at a consistent volume level.\n",
    "Sampling Rate Consistency: Convert all audio files to the same sampling rate if they differ.\n",
    "Audio Length: Consider making all audio clips the same length either by trimming or padding shorter clips.\n",
    "Feature Extraction: Convert audio signals into a form that machine learning algorithms can work with. Common features include Mel-frequency cepstral coefficients (MFCCs), spectrograms, or even raw waveforms for deep learning models."
   ]
  },
  {
   "cell_type": "markdown",
   "metadata": {},
   "source": [
    "## Audio Normalization"
   ]
  },
  {
   "cell_type": "code",
   "execution_count": 30,
   "metadata": {},
   "outputs": [
    {
     "name": "stdout",
     "output_type": "stream",
     "text": [
      "         Show  EpId  ClipId     Start      Stop  Unsure  PoorAudioQuality  \\\n",
      "0  HeStutters     0       0  31900320  31948320       0                 0   \n",
      "1  HeStutters     0       1  31977120  32025120       0                 0   \n",
      "2  HeStutters     0       2  34809760  34857760       0                 0   \n",
      "3  HeStutters     0       3  35200640  35248640       0                 0   \n",
      "4  HeStutters     0       4  35721920  35769920       0                 0   \n",
      "\n",
      "   Prolongation  Block  SoundRep  WordRep  DifficultToUnderstand  \\\n",
      "0             0      0         0        0                      0   \n",
      "1             0      0         0        0                      0   \n",
      "2             0      0         0        0                      0   \n",
      "3             1      0         0        0                      0   \n",
      "4             0      0         0        0                      0   \n",
      "\n",
      "   Interjection  NoStutteredWords  NaturalPause  Music  NoSpeech  \\\n",
      "0             0                 3             1      0         0   \n",
      "1             0                 3             1      0         0   \n",
      "2             0                 3             0      0         0   \n",
      "3             0                 2             0      0         0   \n",
      "4             0                 3             0      0         0   \n",
      "\n",
      "   Fluency Label                                           ClipPath       RMS  \n",
      "0              1  C:\\Users\\ojmar\\Documents\\Uni\\StammerScore\\ml-s...  0.036081  \n",
      "1              1  C:\\Users\\ojmar\\Documents\\Uni\\StammerScore\\ml-s...  0.055818  \n",
      "2              1  C:\\Users\\ojmar\\Documents\\Uni\\StammerScore\\ml-s...  0.061524  \n",
      "3              1  C:\\Users\\ojmar\\Documents\\Uni\\StammerScore\\ml-s...  0.061526  \n",
      "4              1  C:\\Users\\ojmar\\Documents\\Uni\\StammerScore\\ml-s...  0.064194  \n"
     ]
    }
   ],
   "source": [
    "import librosa\n",
    "\n",
    "# Function to calculate RMS of an audio clip\n",
    "def calculate_rms(audio_path):\n",
    "    y, _ = librosa.load(audio_path)\n",
    "    rms = librosa.feature.rms(y=y).mean()\n",
    "    return rms\n",
    "\n",
    "# Calculate RMS for each clip and append it to the DataFrame\n",
    "df['RMS'] = df['ClipPath'].apply(calculate_rms)\n",
    "\n",
    "# Display the updated DataFrame\n",
    "print(df.head())\n"
   ]
  },
  {
   "cell_type": "code",
   "execution_count": 34,
   "metadata": {},
   "outputs": [
    {
     "data": {
      "text/plain": [
       "count    25869.000000\n",
       "mean         0.048424\n",
       "std          0.029405\n",
       "min          0.000221\n",
       "25%          0.027370\n",
       "50%          0.044128\n",
       "75%          0.064212\n",
       "max          0.308333\n",
       "Name: RMS, dtype: float64"
      ]
     },
     "execution_count": 34,
     "metadata": {},
     "output_type": "execute_result"
    }
   ],
   "source": [
    "df['RMS'].describe()"
   ]
  },
  {
   "cell_type": "code",
   "execution_count": 32,
   "metadata": {},
   "outputs": [],
   "source": [
    "output_file_path = 'RMS values.csv'\n",
    "df.to_csv(output_file_path, index=False)"
   ]
  },
  {
   "cell_type": "code",
   "execution_count": 33,
   "metadata": {},
   "outputs": [
    {
     "data": {
      "image/png": "[encoded data removed]",
      "text/plain": [
       "<Figure size 640x480 with 1 Axes>"
      ]
     },
     "metadata": {},
     "output_type": "display_data"
    }
   ],
   "source": [
    "import seaborn as sns\n",
    "import matplotlib.pyplot as plt\n",
    "\n",
    "# Create the violin plot\n",
    "sns.violinplot(x=df['RMS'])\n",
    "\n",
    "# Adding titles and labels (optional, but recommended for clarity)\n",
    "plt.title('Violin Plot of RMS Values')\n",
    "plt.xlabel('RMS Values')\n",
    "\n",
    "# Display the plot\n",
    "plt.show()"
   ]
  },
  {
   "cell_type": "markdown",
   "metadata": {},
   "source": [
    "Next steps:\n",
    "Determine the Target RMS Value: Decide on a target RMS value to normalize all clips to. This could be based on your application's specific needs or preferences. A common approach is to use the average RMS value across all clips, but you might choose a different target, such as the 75th percentile, to preserve more of the dynamic range in the clips.\n",
    "\n",
    "Calculate the Adjustment Factor: For each audio clip, calculate the adjustment factor needed to bring its RMS value to the target level. The adjustment factor is the ratio of the target RMS to the clip's current RMS.\n",
    "\n",
    "Apply the Adjustment Factor: Adjust each clip's volume by multiplying its audio signal by the calculated adjustment factor. This operation should normalize the RMS value of the clip to the target level.\n",
    "\n",
    "Consider Clipping: Ensure that the normalization process does not cause any audio clip to clip (i.e., exceed the maximum amplitude allowed in the audio format). If the adjusted signal exceeds this limit, you might need to apply dynamic range compression or limit the gain applied to prevent clipping."
   ]
  },
  {
   "cell_type": "code",
   "execution_count": null,
   "metadata": {},
   "outputs": [],
   "source": [
    "import numpy as np\n",
    "\n",
    "# Assuming `audio_signals` is a list where each element is a numpy array representing an audio clip\n",
    "# and `target_rms` is the RMS level you want to normalize all clips to\n",
    "\n",
    "def calculate_rms(audio_signal):\n",
    "    return np.sqrt(np.mean(np.square(audio_signal)))\n",
    "\n",
    "def normalize_audio_clips(audio_signals, target_rms):\n",
    "    normalized_signals = []\n",
    "    for signal in audio_signals:\n",
    "        current_rms = calculate_rms(signal)\n",
    "        adjustment_factor = target_rms / current_rms\n",
    "        # Apply adjustment factor, with a check to prevent clipping\n",
    "        normalized_signal = np.minimum(signal * adjustment_factor, 1.0)\n",
    "        normalized_signals.append(normalized_signal)\n",
    "    return normalized_signals\n",
    "\n",
    "# Example target RMS\n",
    "target_rms = 0.05  # This value should be chosen based on your specific needs\n",
    "\n",
    "# Normalize all clips (this is a conceptual example; implementation details may vary)\n",
    "normalized_audio_clips = normalize_audio_clips(audio_signals, target_rms)\n"
   ]
  },
  {
   "cell_type": "markdown",
   "metadata": {},
   "source": [
    "# Modelling"
   ]
  },
  {
   "cell_type": "code",
   "execution_count": 37,
   "metadata": {},
   "outputs": [
    {
     "name": "stdout",
     "output_type": "stream",
     "text": [
      "       Fluency Label\n",
      "count   25869.000000\n",
      "mean        0.496424\n",
      "std         0.499997\n",
      "min         0.000000\n",
      "25%         0.000000\n",
      "50%         0.000000\n",
      "75%         1.000000\n",
      "max         1.000000\n"
     ]
    }
   ],
   "source": [
    "simple_df = df[['ClipPath', 'Fluency Label']]\n",
    "\n",
    "print(simple_df.describe())\n"
   ]
  },
  {
   "cell_type": "code",
   "execution_count": 38,
   "metadata": {},
   "outputs": [
    {
     "name": "stdout",
     "output_type": "stream",
     "text": [
      "Model Accuracy: 0.61\n"
     ]
    }
   ],
   "source": [
    "import librosa\n",
    "import numpy as np\n",
    "import pandas as pd\n",
    "from sklearn.model_selection import train_test_split\n",
    "from sklearn.ensemble import RandomForestClassifier\n",
    "from sklearn.metrics import accuracy_score\n",
    "from sklearn.preprocessing import StandardScaler\n",
    "\n",
    "# Feature extraction\n",
    "def extract_features(audio_path):\n",
    "    y, sr = librosa.load(audio_path)\n",
    "    mfccs = np.mean(librosa.feature.mfcc(y=y, sr=sr, n_mfcc=13), axis=1)\n",
    "    # You can add more features here\n",
    "    return mfccs\n",
    "\n",
    "# Assuming ClipPath contains the full path to the audio files\n",
    "features = np.array([extract_features(path) for path in simple_df['ClipPath']])\n",
    "labels = simple_df['Fluency Label'].values\n",
    "\n",
    "# Split the dataset into training and testing sets\n",
    "X_train, X_test, y_train, y_test = train_test_split(features, labels, test_size=0.2, random_state=42)\n",
    "\n",
    "# Feature scaling\n",
    "scaler = StandardScaler()\n",
    "X_train = scaler.fit_transform(X_train)\n",
    "X_test = scaler.transform(X_test)\n",
    "\n",
    "# Initialize the model\n",
    "model = RandomForestClassifier(n_estimators=100, random_state=42)\n",
    "\n",
    "# Train the model\n",
    "model.fit(X_train, y_train)\n",
    "\n",
    "# Predict on the test set\n",
    "y_pred = model.predict(X_test)\n",
    "\n",
    "# Evaluate the model\n",
    "accuracy = accuracy_score(y_test, y_pred)\n",
    "print(f'Model Accuracy: {accuracy:.2f}')\n",
    "\n",
    "# Model is now ready to predict fluency labels\n"
   ]
  },
  {
   "cell_type": "code",
   "execution_count": 40,
   "metadata": {},
   "outputs": [
    {
     "name": "stdout",
     "output_type": "stream",
     "text": [
      "Model F1 Score: 0.61\n"
     ]
    }
   ],
   "source": [
    "from sklearn.metrics import f1_score\n",
    "# Calculate and print the F1 score\n",
    "f1 = f1_score(y_test, y_pred, average='weighted')\n",
    "print(f'Model F1 Score: {f1:.2f}')"
   ]
  },
  {
   "cell_type": "code",
   "execution_count": 41,
   "metadata": {},
   "outputs": [
    {
     "data": {
      "image/png": "[encoded data removed]",
      "text/plain": [
       "<Figure size 800x600 with 2 Axes>"
      ]
     },
     "metadata": {},
     "output_type": "display_data"
    }
   ],
   "source": [
    "from sklearn.metrics import confusion_matrix\n",
    "import seaborn as sns\n",
    "import matplotlib.pyplot as plt\n",
    "\n",
    "# Calculate confusion matrix\n",
    "conf_mat = confusion_matrix(y_test, y_pred)\n",
    "\n",
    "# Plot confusion matrix\n",
    "plt.figure(figsize=(8, 6))\n",
    "sns.heatmap(conf_mat, annot=True, fmt='d', cmap=\"Blues\", xticklabels=[0, 1], yticklabels=[0, 1])\n",
    "plt.title('Confusion Matrix')\n",
    "plt.xlabel('Predicted Label')\n",
    "plt.ylabel('True Label')\n",
    "plt.show()\n"
   ]
  },
  {
   "cell_type": "markdown",
   "metadata": {},
   "source": [
    "# Usage"
   ]
  },
  {
   "cell_type": "code",
   "execution_count": 42,
   "metadata": {},
   "outputs": [
    {
     "name": "stdout",
     "output_type": "stream",
     "text": [
      "The final fluency score is: 1.0\n"
     ]
    }
   ],
   "source": [
    "import librosa\n",
    "import numpy as np\n",
    "from sklearn.preprocessing import StandardScaler\n",
    "# Replace the following with your actual model import and loading\n",
    "# from your_model_library import YourModelClass\n",
    "# model = YourModelClass.load('path_to_your_trained_model')\n",
    "\n",
    "# Assuming model is already loaded in the environment for this example\n",
    "# model = ...\n",
    "\n",
    "# Feature extraction function\n",
    "def extract_features_usage(audio_signal, sr):\n",
    "    mfccs = np.mean(librosa.feature.mfcc(y=audio_signal, sr=sr, n_mfcc=13), axis=1)\n",
    "    # You can add more features here\n",
    "    return mfccs\n",
    "\n",
    "# Function to split the audio signal into chunks of 3 seconds\n",
    "def split_audio_signal(y, sr, chunk_length=3):\n",
    "    chunk_size = chunk_length * sr  # Chunk size in samples\n",
    "    chunks = [y[i:i + chunk_size] for i in range(0, len(y), chunk_size) if i + chunk_size <= len(y)]\n",
    "    return chunks\n",
    "\n",
    "# Function to make predictions on chunks and calculate final score\n",
    "def predict_and_score(audio_path, model):\n",
    "    # Load the audio file\n",
    "    y, sr = librosa.load(audio_path, sr=None)\n",
    "    # Split the audio signal into 3-second chunks\n",
    "    chunks = split_audio_signal(y, sr)\n",
    "    \n",
    "    # Extract features and predict for each chunk\n",
    "    scaler = StandardScaler()  # Assume you used StandardScaler during training\n",
    "    predictions = []\n",
    "    for chunk in chunks:\n",
    "        features = extract_features_usage(chunk, sr)\n",
    "        features = scaler.fit_transform(features.reshape(1, -1))  # Scaling the features\n",
    "        predictions.append(model.predict(features)[0])\n",
    "    \n",
    "    # Calculate the final fluency score (you might want to use a different formula here)\n",
    "    fluency_score = np.mean(predictions)\n",
    "    \n",
    "    return fluency_score\n",
    "\n",
    "# Example: Predict the fluency score of an audio file\n",
    "audio_file_path = r'C:\\Users\\ojmar\\Documents\\Uni\\StammerScore\\ml-stuttering-events-dataset\\test_audio\\do-schools-kill-creativity-sir-ken-robinson-ted.wav'\n",
    "final_score = predict_and_score(audio_file_path, model)\n",
    "print(f\"The final fluency score is: {final_score}\")\n",
    "\n"
   ]
  }
 ],
 "metadata": {
  "kernelspec": {
   "display_name": "venv",
   "language": "python",
   "name": "venv"
  },
  "language_info": {
   "codemirror_mode": {
    "name": "ipython",
    "version": 3
   },
   "file_extension": ".py",
   "mimetype": "text/x-python",
   "name": "python",
   "nbconvert_exporter": "python",
   "pygments_lexer": "ipython3",
   "version": "3.10.0"
  }
 },
 "nbformat": 4,
 "nbformat_minor": 2
}
